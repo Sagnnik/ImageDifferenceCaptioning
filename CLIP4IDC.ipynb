{
  "nbformat": 4,
  "nbformat_minor": 0,
  "metadata": {
    "colab": {
      "provenance": [],
      "gpuType": "T4"
    },
    "kernelspec": {
      "name": "python3",
      "display_name": "Python 3"
    },
    "language_info": {
      "name": "python"
    },
    "accelerator": "GPU",
    "gpuClass": "standard"
  },
  "cells": [
    {
      "cell_type": "code",
      "execution_count": null,
      "metadata": {
        "colab": {
          "base_uri": "https://localhost:8080/"
        },
        "id": "zD8xpK-PIf86",
        "outputId": "24d40bd9-e109-4844-ae31-eebad5d033fb"
      },
      "outputs": [
        {
          "output_type": "stream",
          "name": "stdout",
          "text": [
            "Cloning into 'CLIP4IDC'...\n",
            "remote: Enumerating objects: 88, done.\u001b[K\n",
            "remote: Counting objects: 100% (88/88), done.\u001b[K\n",
            "remote: Compressing objects: 100% (74/74), done.\u001b[K\n",
            "remote: Total 88 (delta 39), reused 43 (delta 11), pack-reused 0\u001b[K\n",
            "Unpacking objects: 100% (88/88), 6.63 MiB | 4.33 MiB/s, done.\n"
          ]
        }
      ],
      "source": [
        "!git clone https://github.com/sushizixin/CLIP4IDC"
      ]
    },
    {
      "cell_type": "code",
      "source": [
        "!nvidia-smi"
      ],
      "metadata": {
        "colab": {
          "base_uri": "https://localhost:8080/"
        },
        "id": "mmLzzh12vscb",
        "outputId": "09ac1b6c-be98-4039-8c45-1b5ca3d30d00"
      },
      "execution_count": null,
      "outputs": [
        {
          "output_type": "stream",
          "name": "stdout",
          "text": [
            "Wed May 10 13:38:52 2023       \n",
            "+-----------------------------------------------------------------------------+\n",
            "| NVIDIA-SMI 525.85.12    Driver Version: 525.85.12    CUDA Version: 12.0     |\n",
            "|-------------------------------+----------------------+----------------------+\n",
            "| GPU  Name        Persistence-M| Bus-Id        Disp.A | Volatile Uncorr. ECC |\n",
            "| Fan  Temp  Perf  Pwr:Usage/Cap|         Memory-Usage | GPU-Util  Compute M. |\n",
            "|                               |                      |               MIG M. |\n",
            "|===============================+======================+======================|\n",
            "|   0  Tesla T4            Off  | 00000000:00:04.0 Off |                    0 |\n",
            "| N/A   47C    P8    10W /  70W |      0MiB / 15360MiB |      0%      Default |\n",
            "|                               |                      |                  N/A |\n",
            "+-------------------------------+----------------------+----------------------+\n",
            "                                                                               \n",
            "+-----------------------------------------------------------------------------+\n",
            "| Processes:                                                                  |\n",
            "|  GPU   GI   CI        PID   Type   Process name                  GPU Memory |\n",
            "|        ID   ID                                                   Usage      |\n",
            "|=============================================================================|\n",
            "|  No running processes found                                                 |\n",
            "+-----------------------------------------------------------------------------+\n"
          ]
        }
      ]
    },
    {
      "cell_type": "code",
      "source": [
        "cd /content/CLIP4IDC"
      ],
      "metadata": {
        "colab": {
          "base_uri": "https://localhost:8080/"
        },
        "id": "j0gvShJKTC09",
        "outputId": "cd2407eb-d34c-4acc-d656-7a4baa00318f"
      },
      "execution_count": null,
      "outputs": [
        {
          "output_type": "stream",
          "name": "stdout",
          "text": [
            "/content/CLIP4IDC\n"
          ]
        }
      ]
    },
    {
      "cell_type": "code",
      "source": [
        "!cp /content/CLIP4IDC/scripts/eval_caption_clevr.sh /content/CLIP4IDC"
      ],
      "metadata": {
        "id": "XH_mzIQ7TFhc"
      },
      "execution_count": null,
      "outputs": []
    },
    {
      "cell_type": "code",
      "source": [
        "!python --version"
      ],
      "metadata": {
        "colab": {
          "base_uri": "https://localhost:8080/"
        },
        "id": "hoyuitOm2VcE",
        "outputId": "cae19291-0ab1-41c5-94a4-47826d284319"
      },
      "execution_count": null,
      "outputs": [
        {
          "output_type": "stream",
          "name": "stdout",
          "text": [
            "Python 3.10.11\n"
          ]
        }
      ]
    },
    {
      "cell_type": "code",
      "source": [
        "!sudo update-alternatives --config python3"
      ],
      "metadata": {
        "colab": {
          "base_uri": "https://localhost:8080/"
        },
        "id": "A0DwwJgS20vR",
        "outputId": "59811446-c368-4323-f99a-ac61793fcb46"
      },
      "execution_count": null,
      "outputs": [
        {
          "output_type": "stream",
          "name": "stdout",
          "text": [
            "There are 2 choices for the alternative python3 (providing /usr/bin/python3).\n",
            "\n",
            "  Selection    Path                 Priority   Status\n",
            "------------------------------------------------------------\n",
            "* 0            /usr/bin/python3.10   2         auto mode\n",
            "  1            /usr/bin/python3.10   2         manual mode\n",
            "  2            /usr/bin/python3.8    1         manual mode\n",
            "\n",
            "Press <enter> to keep the current choice[*], or type selection number: 2\n",
            "update-alternatives: using /usr/bin/python3.8 to provide /usr/bin/python3 (python3) in manual mode\n"
          ]
        }
      ]
    },
    {
      "cell_type": "code",
      "source": [
        "!python3 --version"
      ],
      "metadata": {
        "colab": {
          "base_uri": "https://localhost:8080/"
        },
        "id": "DL3r__yP3Ngk",
        "outputId": "dcceeb2e-8a68-44ad-e763-80663db02dbd"
      },
      "execution_count": null,
      "outputs": [
        {
          "output_type": "stream",
          "name": "stdout",
          "text": [
            "Python 3.8.10\n"
          ]
        }
      ]
    },
    {
      "cell_type": "code",
      "source": [
        "!sudo apt install python3-pip"
      ],
      "metadata": {
        "colab": {
          "base_uri": "https://localhost:8080/"
        },
        "id": "pFngdf4U3k4m",
        "outputId": "216fe3eb-2c45-48f5-f244-38b9690f526a"
      },
      "execution_count": null,
      "outputs": [
        {
          "output_type": "stream",
          "name": "stdout",
          "text": [
            "Reading package lists... Done\n",
            "Building dependency tree       \n",
            "Reading state information... Done\n",
            "The following additional packages will be installed:\n",
            "  python-pip-whl python3-setuptools python3-wheel\n",
            "Suggested packages:\n",
            "  python-setuptools-doc\n",
            "The following NEW packages will be installed:\n",
            "  python-pip-whl python3-pip python3-setuptools python3-wheel\n",
            "0 upgraded, 4 newly installed, 0 to remove and 24 not upgraded.\n",
            "Need to get 2,389 kB of archives.\n",
            "After this operation, 4,933 kB of additional disk space will be used.\n",
            "Get:1 http://archive.ubuntu.com/ubuntu focal-updates/universe amd64 python-pip-whl all 20.0.2-5ubuntu1.8 [1,805 kB]\n",
            "Get:2 http://archive.ubuntu.com/ubuntu focal-updates/main amd64 python3-setuptools all 45.2.0-1ubuntu0.1 [330 kB]\n",
            "Get:3 http://archive.ubuntu.com/ubuntu focal-updates/universe amd64 python3-wheel all 0.34.2-1ubuntu0.1 [23.9 kB]\n",
            "Get:4 http://archive.ubuntu.com/ubuntu focal-updates/universe amd64 python3-pip all 20.0.2-5ubuntu1.8 [231 kB]\n",
            "Fetched 2,389 kB in 1s (2,795 kB/s)\n",
            "debconf: unable to initialize frontend: Dialog\n",
            "debconf: (No usable dialog-like program is installed, so the dialog based frontend cannot be used. at /usr/share/perl5/Debconf/FrontEnd/Dialog.pm line 76, <> line 4.)\n",
            "debconf: falling back to frontend: Readline\n",
            "debconf: unable to initialize frontend: Readline\n",
            "debconf: (This frontend requires a controlling tty.)\n",
            "debconf: falling back to frontend: Teletype\n",
            "dpkg-preconfigure: unable to re-open stdin: \n",
            "Selecting previously unselected package python-pip-whl.\n",
            "(Reading database ... 122518 files and directories currently installed.)\n",
            "Preparing to unpack .../python-pip-whl_20.0.2-5ubuntu1.8_all.deb ...\n",
            "Unpacking python-pip-whl (20.0.2-5ubuntu1.8) ...\n",
            "Selecting previously unselected package python3-setuptools.\n",
            "Preparing to unpack .../python3-setuptools_45.2.0-1ubuntu0.1_all.deb ...\n",
            "Unpacking python3-setuptools (45.2.0-1ubuntu0.1) ...\n",
            "Selecting previously unselected package python3-wheel.\n",
            "Preparing to unpack .../python3-wheel_0.34.2-1ubuntu0.1_all.deb ...\n",
            "Unpacking python3-wheel (0.34.2-1ubuntu0.1) ...\n",
            "Selecting previously unselected package python3-pip.\n",
            "Preparing to unpack .../python3-pip_20.0.2-5ubuntu1.8_all.deb ...\n",
            "Unpacking python3-pip (20.0.2-5ubuntu1.8) ...\n",
            "Setting up python3-setuptools (45.2.0-1ubuntu0.1) ...\n",
            "Setting up python3-wheel (0.34.2-1ubuntu0.1) ...\n",
            "Setting up python-pip-whl (20.0.2-5ubuntu1.8) ...\n",
            "Setting up python3-pip (20.0.2-5ubuntu1.8) ...\n",
            "Processing triggers for man-db (2.9.1-1) ...\n"
          ]
        }
      ]
    },
    {
      "cell_type": "code",
      "source": [
        "!pip uninstall torch -y"
      ],
      "metadata": {
        "colab": {
          "base_uri": "https://localhost:8080/"
        },
        "id": "z-mEmSFu01dZ",
        "outputId": "6566c129-32f7-43e6-bca4-fef2b2819145"
      },
      "execution_count": null,
      "outputs": [
        {
          "output_type": "stream",
          "name": "stdout",
          "text": [
            "\u001b[33mWARNING: Skipping torch as it is not installed.\u001b[0m\n"
          ]
        }
      ]
    },
    {
      "cell_type": "code",
      "source": [
        "!pip install torch==1.7.1+cu110 torchvision==0.8.2+cu110 torchaudio==0.7.2 -f https://download.pytorch.org/whl/torch_stable.html"
      ],
      "metadata": {
        "colab": {
          "base_uri": "https://localhost:8080/"
        },
        "id": "8SGAhMfY1fRx",
        "outputId": "ec72b737-70d7-44b7-b41d-25b07314e8d9"
      },
      "execution_count": null,
      "outputs": [
        {
          "output_type": "stream",
          "name": "stdout",
          "text": [
            "Looking in indexes: https://pypi.org/simple, https://us-python.pkg.dev/colab-wheels/public/simple/\n",
            "Looking in links: https://download.pytorch.org/whl/torch_stable.html\n",
            "Collecting torch==1.7.1+cu110\n",
            "  Downloading https://download.pytorch.org/whl/cu110/torch-1.7.1%2Bcu110-cp38-cp38-linux_x86_64.whl (1156.8 MB)\n",
            "\u001b[K     |████████████████████████████████| 1156.8 MB 13 kB/s \n",
            "\u001b[?25hCollecting torchvision==0.8.2+cu110\n",
            "  Downloading https://download.pytorch.org/whl/cu110/torchvision-0.8.2%2Bcu110-cp38-cp38-linux_x86_64.whl (12.9 MB)\n",
            "\u001b[K     |████████████████████████████████| 12.9 MB 74.9 MB/s \n",
            "\u001b[?25hCollecting torchaudio==0.7.2\n",
            "  Downloading torchaudio-0.7.2-cp38-cp38-manylinux1_x86_64.whl (7.6 MB)\n",
            "\u001b[K     |████████████████████████████████| 7.6 MB 10.2 MB/s \n",
            "\u001b[?25hCollecting typing-extensions\n",
            "  Downloading typing_extensions-4.5.0-py3-none-any.whl (27 kB)\n",
            "Collecting numpy\n",
            "  Downloading numpy-1.24.3-cp38-cp38-manylinux_2_17_x86_64.manylinux2014_x86_64.whl (17.3 MB)\n",
            "\u001b[K     |████████████████████████████████| 17.3 MB 66.0 MB/s \n",
            "\u001b[?25hCollecting pillow>=4.1.1\n",
            "  Downloading Pillow-9.5.0-cp38-cp38-manylinux_2_17_x86_64.manylinux2014_x86_64.whl (3.3 MB)\n",
            "\u001b[K     |████████████████████████████████| 3.3 MB 66.6 MB/s \n",
            "\u001b[?25hInstalling collected packages: typing-extensions, numpy, torch, pillow, torchvision, torchaudio\n",
            "Successfully installed numpy-1.24.3 pillow-9.5.0 torch-1.7.1+cu110 torchaudio-0.7.2 torchvision-0.8.2+cu110 typing-extensions-4.5.0\n"
          ]
        }
      ]
    },
    {
      "cell_type": "code",
      "source": [
        "!pip install ftfy regex tqdm"
      ],
      "metadata": {
        "colab": {
          "base_uri": "https://localhost:8080/",
          "height": 346
        },
        "id": "5IlNrHT24ryC",
        "outputId": "427f2ecf-8d7c-49e5-9785-f40856c57871"
      },
      "execution_count": null,
      "outputs": [
        {
          "output_type": "stream",
          "name": "stdout",
          "text": [
            "Looking in indexes: https://pypi.org/simple, https://us-python.pkg.dev/colab-wheels/public/simple/\n",
            "Collecting ftfy\n",
            "  Downloading ftfy-6.1.1-py3-none-any.whl (53 kB)\n",
            "\u001b[K     |████████████████████████████████| 53 kB 1.6 MB/s \n",
            "\u001b[?25hCollecting regex\n",
            "  Downloading regex-2023.5.5-cp38-cp38-manylinux_2_17_x86_64.manylinux2014_x86_64.whl (771 kB)\n",
            "\u001b[K     |████████████████████████████████| 771 kB 15.4 MB/s \n",
            "\u001b[?25hCollecting tqdm\n",
            "  Downloading tqdm-4.65.0-py3-none-any.whl (77 kB)\n",
            "\u001b[K     |████████████████████████████████| 77 kB 6.2 MB/s \n",
            "\u001b[?25hCollecting wcwidth>=0.2.5\n",
            "  Downloading wcwidth-0.2.6-py2.py3-none-any.whl (29 kB)\n",
            "Installing collected packages: wcwidth, ftfy, regex, tqdm\n",
            "Successfully installed ftfy-6.1.1 regex-2023.5.5 tqdm-4.65.0 wcwidth-0.2.6\n"
          ]
        },
        {
          "output_type": "display_data",
          "data": {
            "application/vnd.colab-display-data+json": {
              "pip_warning": {
                "packages": [
                  "wcwidth"
                ]
              }
            }
          },
          "metadata": {}
        }
      ]
    },
    {
      "cell_type": "code",
      "source": [
        "!pip install opencv-python boto3 requests pandas"
      ],
      "metadata": {
        "colab": {
          "base_uri": "https://localhost:8080/",
          "height": 956
        },
        "id": "xtd7cup94v3N",
        "outputId": "08b60231-00a0-43ff-af7f-a84d36c62ffb"
      },
      "execution_count": null,
      "outputs": [
        {
          "output_type": "stream",
          "name": "stdout",
          "text": [
            "Looking in indexes: https://pypi.org/simple, https://us-python.pkg.dev/colab-wheels/public/simple/\n",
            "Collecting opencv-python\n",
            "  Downloading opencv_python-4.7.0.72-cp37-abi3-manylinux_2_17_x86_64.manylinux2014_x86_64.whl (61.8 MB)\n",
            "\u001b[K     |████████████████████████████████| 61.8 MB 1.2 MB/s \n",
            "\u001b[?25hCollecting boto3\n",
            "  Downloading boto3-1.26.131-py3-none-any.whl (135 kB)\n",
            "\u001b[K     |████████████████████████████████| 135 kB 67.6 MB/s \n",
            "\u001b[?25hCollecting requests\n",
            "  Downloading requests-2.30.0-py3-none-any.whl (62 kB)\n",
            "\u001b[K     |████████████████████████████████| 62 kB 1.1 MB/s \n",
            "\u001b[?25hCollecting pandas\n",
            "  Downloading pandas-2.0.1-cp38-cp38-manylinux_2_17_x86_64.manylinux2014_x86_64.whl (12.3 MB)\n",
            "\u001b[K     |████████████████████████████████| 12.3 MB 79 kB/s \n",
            "\u001b[?25hRequirement already satisfied: numpy>=1.17.0; python_version >= \"3.7\" in /usr/local/lib/python3.8/dist-packages (from opencv-python) (1.24.3)\n",
            "Collecting jmespath<2.0.0,>=0.7.1\n",
            "  Downloading jmespath-1.0.1-py3-none-any.whl (20 kB)\n",
            "Collecting s3transfer<0.7.0,>=0.6.0\n",
            "  Downloading s3transfer-0.6.1-py3-none-any.whl (79 kB)\n",
            "\u001b[K     |████████████████████████████████| 79 kB 3.6 MB/s \n",
            "\u001b[?25hCollecting botocore<1.30.0,>=1.29.131\n",
            "  Downloading botocore-1.29.131-py3-none-any.whl (10.7 MB)\n",
            "\u001b[K     |████████████████████████████████| 10.7 MB 54.3 MB/s \n",
            "\u001b[?25hCollecting urllib3<3,>=1.21.1\n",
            "  Downloading urllib3-2.0.2-py3-none-any.whl (123 kB)\n",
            "\u001b[K     |████████████████████████████████| 123 kB 66.2 MB/s \n",
            "\u001b[?25hCollecting charset-normalizer<4,>=2\n",
            "  Downloading charset_normalizer-3.1.0-cp38-cp38-manylinux_2_17_x86_64.manylinux2014_x86_64.whl (195 kB)\n",
            "\u001b[K     |████████████████████████████████| 195 kB 55.9 MB/s \n",
            "\u001b[?25hCollecting idna<4,>=2.5\n",
            "  Downloading idna-3.4-py3-none-any.whl (61 kB)\n",
            "\u001b[K     |████████████████████████████████| 61 kB 70 kB/s \n",
            "\u001b[?25hCollecting certifi>=2017.4.17\n",
            "  Downloading certifi-2023.5.7-py3-none-any.whl (156 kB)\n",
            "\u001b[K     |████████████████████████████████| 156 kB 53.3 MB/s \n",
            "\u001b[?25hCollecting tzdata>=2022.1\n",
            "  Downloading tzdata-2023.3-py2.py3-none-any.whl (341 kB)\n",
            "\u001b[K     |████████████████████████████████| 341 kB 64.2 MB/s \n",
            "\u001b[?25hCollecting pytz>=2020.1\n",
            "  Downloading pytz-2023.3-py2.py3-none-any.whl (502 kB)\n",
            "\u001b[K     |████████████████████████████████| 502 kB 60.2 MB/s \n",
            "\u001b[?25hCollecting python-dateutil>=2.8.2\n",
            "  Downloading python_dateutil-2.8.2-py2.py3-none-any.whl (247 kB)\n",
            "\u001b[K     |████████████████████████████████| 247 kB 67.4 MB/s \n",
            "\u001b[?25hCollecting six>=1.5\n",
            "  Downloading six-1.16.0-py2.py3-none-any.whl (11 kB)\n",
            "\u001b[31mERROR: botocore 1.29.131 has requirement urllib3<1.27,>=1.25.4, but you'll have urllib3 2.0.2 which is incompatible.\u001b[0m\n",
            "Installing collected packages: opencv-python, jmespath, six, python-dateutil, urllib3, botocore, s3transfer, boto3, charset-normalizer, idna, certifi, requests, tzdata, pytz, pandas\n",
            "Successfully installed boto3-1.26.131 botocore-1.29.131 certifi-2023.5.7 charset-normalizer-3.1.0 idna-3.4 jmespath-1.0.1 opencv-python-4.7.0.72 pandas-2.0.1 python-dateutil-2.8.2 pytz-2023.3 requests-2.30.0 s3transfer-0.6.1 six-1.16.0 tzdata-2023.3 urllib3-2.0.2\n"
          ]
        },
        {
          "output_type": "display_data",
          "data": {
            "application/vnd.colab-display-data+json": {
              "pip_warning": {
                "packages": [
                  "dateutil",
                  "six"
                ]
              }
            }
          },
          "metadata": {}
        }
      ]
    },
    {
      "cell_type": "code",
      "source": [
        "!pip install \"git+https://github.com/salaniz/pycocoevalcap.git\""
      ],
      "metadata": {
        "colab": {
          "base_uri": "https://localhost:8080/",
          "height": 939
        },
        "id": "7Ocy7GXI4zQy",
        "outputId": "8fa94dcf-8072-4f82-b18f-bf4332d601b9"
      },
      "execution_count": null,
      "outputs": [
        {
          "output_type": "stream",
          "name": "stdout",
          "text": [
            "Looking in indexes: https://pypi.org/simple, https://us-python.pkg.dev/colab-wheels/public/simple/\n",
            "Collecting git+https://github.com/salaniz/pycocoevalcap.git\n",
            "  Cloning https://github.com/salaniz/pycocoevalcap.git to /tmp/pip-req-build-3yb5iwqw\n",
            "  Running command git clone -q https://github.com/salaniz/pycocoevalcap.git /tmp/pip-req-build-3yb5iwqw\n",
            "Collecting pycocotools>=2.0.2\n",
            "  Downloading pycocotools-2.0.6.tar.gz (24 kB)\n",
            "  Installing build dependencies ... \u001b[?25l\u001b[?25hdone\n",
            "  Getting requirements to build wheel ... \u001b[?25l\u001b[?25hdone\n",
            "    Preparing wheel metadata ... \u001b[?25l\u001b[?25hdone\n",
            "Collecting matplotlib>=2.1.0\n",
            "  Downloading matplotlib-3.7.1-cp38-cp38-manylinux_2_12_x86_64.manylinux2010_x86_64.whl (9.2 MB)\n",
            "\u001b[K     |████████████████████████████████| 9.2 MB 10.4 MB/s \n",
            "\u001b[?25hRequirement already satisfied: numpy in /usr/local/lib/python3.8/dist-packages (from pycocotools>=2.0.2->pycocoevalcap==1.2) (1.24.3)\n",
            "Collecting fonttools>=4.22.0\n",
            "  Downloading fonttools-4.39.3-py3-none-any.whl (1.0 MB)\n",
            "\u001b[K     |████████████████████████████████| 1.0 MB 49.4 MB/s \n",
            "\u001b[?25hCollecting cycler>=0.10\n",
            "  Downloading cycler-0.11.0-py3-none-any.whl (6.4 kB)\n",
            "Collecting pyparsing>=2.3.1\n",
            "  Downloading pyparsing-3.0.9-py3-none-any.whl (98 kB)\n",
            "\u001b[K     |████████████████████████████████| 98 kB 7.2 MB/s \n",
            "\u001b[?25hCollecting packaging>=20.0\n",
            "  Downloading packaging-23.1-py3-none-any.whl (48 kB)\n",
            "\u001b[K     |████████████████████████████████| 48 kB 6.5 MB/s \n",
            "\u001b[?25hCollecting importlib-resources>=3.2.0; python_version < \"3.10\"\n",
            "  Downloading importlib_resources-5.12.0-py3-none-any.whl (36 kB)\n",
            "Collecting kiwisolver>=1.0.1\n",
            "  Downloading kiwisolver-1.4.4-cp38-cp38-manylinux_2_5_x86_64.manylinux1_x86_64.whl (1.2 MB)\n",
            "\u001b[K     |████████████████████████████████| 1.2 MB 75.4 MB/s \n",
            "\u001b[?25hCollecting contourpy>=1.0.1\n",
            "  Downloading contourpy-1.0.7-cp38-cp38-manylinux_2_17_x86_64.manylinux2014_x86_64.whl (300 kB)\n",
            "\u001b[K     |████████████████████████████████| 300 kB 81.5 MB/s \n",
            "\u001b[?25hRequirement already satisfied: python-dateutil>=2.7 in /usr/local/lib/python3.8/dist-packages (from matplotlib>=2.1.0->pycocotools>=2.0.2->pycocoevalcap==1.2) (2.8.2)\n",
            "Requirement already satisfied: pillow>=6.2.0 in /usr/local/lib/python3.8/dist-packages (from matplotlib>=2.1.0->pycocotools>=2.0.2->pycocoevalcap==1.2) (9.5.0)\n",
            "Collecting zipp>=3.1.0; python_version < \"3.10\"\n",
            "  Downloading zipp-3.15.0-py3-none-any.whl (6.8 kB)\n",
            "Requirement already satisfied: six>=1.5 in /usr/local/lib/python3.8/dist-packages (from python-dateutil>=2.7->matplotlib>=2.1.0->pycocotools>=2.0.2->pycocoevalcap==1.2) (1.16.0)\n",
            "Building wheels for collected packages: pycocoevalcap, pycocotools\n",
            "  Building wheel for pycocoevalcap (setup.py) ... \u001b[?25l\u001b[?25hdone\n",
            "  Created wheel for pycocoevalcap: filename=pycocoevalcap-1.2-py3-none-any.whl size=104312273 sha256=91f174d2cf2d70466f4f2f57c3d93b1211c2981ef1d90d7102304d262718040b\n",
            "  Stored in directory: /tmp/pip-ephem-wheel-cache-hi7hx7x8/wheels/bd/05/6e/20e74b95786836ced692ab88d874a1ab5c25f328c519f868e8\n",
            "  Building wheel for pycocotools (PEP 517) ... \u001b[?25l\u001b[?25hdone\n",
            "  Created wheel for pycocotools: filename=pycocotools-2.0.6-cp38-cp38-linux_x86_64.whl size=423168 sha256=dba1fcf14b98565316b22586644cc55dd38febd21c6292e3d38c8cc576536b68\n",
            "  Stored in directory: /root/.cache/pip/wheels/3e/08/ac/58126fe59992032701437336493f6132e1b72381a62d00b595\n",
            "Successfully built pycocoevalcap pycocotools\n",
            "Installing collected packages: fonttools, cycler, pyparsing, packaging, zipp, importlib-resources, kiwisolver, contourpy, matplotlib, pycocotools, pycocoevalcap\n",
            "Successfully installed contourpy-1.0.7 cycler-0.11.0 fonttools-4.39.3 importlib-resources-5.12.0 kiwisolver-1.4.4 matplotlib-3.7.1 packaging-23.1 pycocoevalcap-1.2 pycocotools-2.0.6 pyparsing-3.0.9 zipp-3.15.0\n"
          ]
        },
        {
          "output_type": "display_data",
          "data": {
            "application/vnd.colab-display-data+json": {
              "pip_warning": {
                "packages": [
                  "cycler",
                  "kiwisolver",
                  "matplotlib",
                  "mpl_toolkits"
                ]
              }
            }
          },
          "metadata": {}
        }
      ]
    },
    {
      "cell_type": "code",
      "source": [
        "from google.colab import drive\n",
        "\n",
        "drive.mount('/content/gdrive')"
      ],
      "metadata": {
        "colab": {
          "base_uri": "https://localhost:8080/"
        },
        "id": "6Xng6uOuaCGG",
        "outputId": "19cddb36-ee5e-449d-acb1-a280f13db6a5"
      },
      "execution_count": null,
      "outputs": [
        {
          "output_type": "stream",
          "name": "stdout",
          "text": [
            "Mounted at /content/gdrive\n"
          ]
        }
      ]
    },
    {
      "cell_type": "code",
      "source": [
        "!pwd"
      ],
      "metadata": {
        "colab": {
          "base_uri": "https://localhost:8080/"
        },
        "id": "v3_r5SujfhmD",
        "outputId": "60100d5f-1cba-4c3a-8f5a-26d17ae0c668"
      },
      "execution_count": null,
      "outputs": [
        {
          "output_type": "stream",
          "name": "stdout",
          "text": [
            "/content/CLIP4IDC\n"
          ]
        }
      ]
    },
    {
      "cell_type": "code",
      "source": [
        "!mkdir /content/CLIP4IDC/your_data"
      ],
      "metadata": {
        "id": "mgb12e7siYGn"
      },
      "execution_count": null,
      "outputs": []
    },
    {
      "cell_type": "code",
      "source": [
        "!mkdir /content/CLIP4IDC/your_data/clevr_change"
      ],
      "metadata": {
        "id": "y3r8lvlrimvl"
      },
      "execution_count": null,
      "outputs": []
    },
    {
      "cell_type": "code",
      "source": [
        "!cp -r /content/gdrive/MyDrive/clip_trial/data /content/CLIP4IDC/your_data/clevr_change"
      ],
      "metadata": {
        "id": "qY9MWYXnfibc"
      },
      "execution_count": null,
      "outputs": []
    },
    {
      "cell_type": "code",
      "source": [
        "## Rename folder to data"
      ],
      "metadata": {
        "id": "uF0xt0npjbyH"
      },
      "execution_count": null,
      "outputs": []
    },
    {
      "cell_type": "code",
      "source": [
        "!mkdir /content/CLIP4IDC/ckpts"
      ],
      "metadata": {
        "id": "U3TYWB-Zi-hD"
      },
      "execution_count": null,
      "outputs": []
    },
    {
      "cell_type": "code",
      "source": [
        "!mkdir /content/CLIP4IDC/ckpts/trained"
      ],
      "metadata": {
        "id": "1wYYlWf6jG8a"
      },
      "execution_count": null,
      "outputs": []
    },
    {
      "cell_type": "code",
      "source": [
        "!mkdir /content/CLIP4IDC/ckpts/ckpt_clevr_caption_eval"
      ],
      "metadata": {
        "id": "IiSdVnpKjNbv"
      },
      "execution_count": null,
      "outputs": []
    },
    {
      "cell_type": "code",
      "source": [
        "!cp /content/gdrive/MyDrive/clip_trial/pytorch_model.bin.clevr /content/CLIP4IDC/ckpts/trained"
      ],
      "metadata": {
        "id": "plx5aj4NgTb9"
      },
      "execution_count": null,
      "outputs": []
    },
    {
      "cell_type": "code",
      "source": [
        "!cp /content/gdrive/MyDrive/clip_trial/ViT-B-32.pt /content/CLIP4IDC"
      ],
      "metadata": {
        "id": "t5f7I_lRhKvp"
      },
      "execution_count": null,
      "outputs": []
    },
    {
      "cell_type": "code",
      "source": [
        "!wget -P ./modules https://openaipublic.azureedge.net/clip/models/40d365715913c9da98579312b702a82c18be219cc2a73407c4526f58eba950af/ViT-B-32.pt"
      ],
      "metadata": {
        "colab": {
          "base_uri": "https://localhost:8080/"
        },
        "id": "X6eHGrS-6v-9",
        "outputId": "805889cc-5a71-4c3b-97fc-dd9b4466a74b"
      },
      "execution_count": null,
      "outputs": [
        {
          "output_type": "stream",
          "name": "stdout",
          "text": [
            "--2023-05-10 13:46:29--  https://openaipublic.azureedge.net/clip/models/40d365715913c9da98579312b702a82c18be219cc2a73407c4526f58eba950af/ViT-B-32.pt\n",
            "Resolving openaipublic.azureedge.net (openaipublic.azureedge.net)... 13.107.237.69, 13.107.238.69, 2620:1ec:4e:1::69, ...\n",
            "Connecting to openaipublic.azureedge.net (openaipublic.azureedge.net)|13.107.237.69|:443... connected.\n",
            "HTTP request sent, awaiting response... 200 OK\n",
            "Length: 353976522 (338M) [application/octet-stream]\n",
            "Saving to: ‘./modules/ViT-B-32.pt’\n",
            "\n",
            "ViT-B-32.pt         100%[===================>] 337.58M  56.5MB/s    in 5.8s    \n",
            "\n",
            "2023-05-10 13:46:35 (57.9 MB/s) - ‘./modules/ViT-B-32.pt’ saved [353976522/353976522]\n",
            "\n"
          ]
        }
      ]
    },
    {
      "cell_type": "code",
      "source": [
        "!cp /content/CLIP4IDC/gt/clevr_total_change_captions_reformat.json /content/CLIP4IDC/your_data/clevr_change/data"
      ],
      "metadata": {
        "id": "3VpjkAhX-RQF"
      },
      "execution_count": null,
      "outputs": []
    },
    {
      "cell_type": "code",
      "source": [
        "!sh eval_caption_clevr.sh"
      ],
      "metadata": {
        "colab": {
          "base_uri": "https://localhost:8080/"
        },
        "id": "36I20_f-hOTF",
        "outputId": "28c7b004-8fc7-4ea9-aa7f-17b2b698b7d3"
      },
      "execution_count": null,
      "outputs": [
        {
          "output_type": "stream",
          "name": "stdout",
          "text": [
            "05/10/2023 13:48:56 - INFO -   Effective parameters:\n",
            "05/10/2023 13:48:56 - INFO -     <<< batch_size: 16\n",
            "05/10/2023 13:48:56 - INFO -     <<< batch_size_val: 32\n",
            "05/10/2023 13:48:56 - INFO -     <<< cache_dir: \n",
            "05/10/2023 13:48:56 - INFO -     <<< coef_lr: 0.001\n",
            "05/10/2023 13:48:56 - INFO -     <<< cross_model: cross-base\n",
            "05/10/2023 13:48:56 - INFO -     <<< cross_num_hidden_layers: 2\n",
            "05/10/2023 13:48:56 - INFO -     <<< data_path: your_data/clevr_change/data\n",
            "05/10/2023 13:48:56 - INFO -     <<< datatype: clevr\n",
            "05/10/2023 13:48:56 - INFO -     <<< decoder_model: decoder-base\n",
            "05/10/2023 13:48:56 - INFO -     <<< do_eval: True\n",
            "05/10/2023 13:48:56 - INFO -     <<< do_lower_case: False\n",
            "05/10/2023 13:48:56 - INFO -     <<< do_pretrain: False\n",
            "05/10/2023 13:48:56 - INFO -     <<< do_train: False\n",
            "05/10/2023 13:48:56 - INFO -     <<< epochs: 50\n",
            "05/10/2023 13:48:56 - INFO -     <<< features_path: your_data/clevr_change/data\n",
            "05/10/2023 13:48:56 - INFO -     <<< fp16: False\n",
            "05/10/2023 13:48:56 - INFO -     <<< fp16_opt_level: O1\n",
            "05/10/2023 13:48:56 - INFO -     <<< freeze_layer_num: 0\n",
            "05/10/2023 13:48:56 - INFO -     <<< gradient_accumulation_steps: 1\n",
            "05/10/2023 13:48:56 - INFO -     <<< gt_dir: gt\n",
            "05/10/2023 13:48:56 - INFO -     <<< hard_negative_rate: 0.5\n",
            "05/10/2023 13:48:56 - INFO -     <<< init_model: ckpts/trained/pytorch_model.bin.clevr\n",
            "05/10/2023 13:48:56 - INFO -     <<< intra_num_hidden_layers: 9\n",
            "05/10/2023 13:48:56 - INFO -     <<< linear_patch: 2d\n",
            "05/10/2023 13:48:56 - INFO -     <<< local_rank: 0\n",
            "05/10/2023 13:48:56 - INFO -     <<< lr: 0.0001\n",
            "05/10/2023 13:48:56 - INFO -     <<< lr_decay: 0.9\n",
            "05/10/2023 13:48:56 - INFO -     <<< margin: 0.1\n",
            "05/10/2023 13:48:56 - INFO -     <<< max_words: 32\n",
            "05/10/2023 13:48:56 - INFO -     <<< n_display: 50\n",
            "05/10/2023 13:48:56 - INFO -     <<< n_gpu: 1\n",
            "05/10/2023 13:48:56 - INFO -     <<< n_pair: 1\n",
            "05/10/2023 13:48:56 - INFO -     <<< negative_weighting: 1\n",
            "05/10/2023 13:48:56 - INFO -     <<< num_thread_reader: 4\n",
            "05/10/2023 13:48:56 - INFO -     <<< output_dir: ckpts/ckpt_clevr_caption_eval\n",
            "05/10/2023 13:48:56 - INFO -     <<< pretrained_clip_name: ViT-B/32\n",
            "05/10/2023 13:48:56 - INFO -     <<< rank: 0\n",
            "05/10/2023 13:48:56 - INFO -     <<< resume_model: None\n",
            "05/10/2023 13:48:56 - INFO -     <<< sampled_use_mil: False\n",
            "05/10/2023 13:48:56 - INFO -     <<< seed: 42\n",
            "05/10/2023 13:48:56 - INFO -     <<< task_type: caption\n",
            "05/10/2023 13:48:56 - INFO -     <<< text_num_hidden_layers: 12\n",
            "05/10/2023 13:48:56 - INFO -     <<< use_mil: False\n",
            "05/10/2023 13:48:56 - INFO -     <<< visual_num_hidden_layers: 12\n",
            "05/10/2023 13:48:56 - INFO -     <<< warmup_proportion: 0.1\n",
            "05/10/2023 13:48:56 - INFO -     <<< world_size: 1\n",
            "05/10/2023 13:48:56 - INFO -   device: cuda:0 n_gpu: 1\n",
            "05/10/2023 13:48:58 - INFO -   loading archive file /content/CLIP4IDC/modules/cross-base\n",
            "05/10/2023 13:48:58 - INFO -   Model config {\n",
            "  \"attention_probs_dropout_prob\": 0.1,\n",
            "  \"hidden_act\": \"gelu\",\n",
            "  \"hidden_dropout_prob\": 0.1,\n",
            "  \"hidden_size\": 512,\n",
            "  \"initializer_range\": 0.02,\n",
            "  \"intermediate_size\": 2048,\n",
            "  \"max_position_embeddings\": 150,\n",
            "  \"num_attention_heads\": 8,\n",
            "  \"num_hidden_layers\": 2,\n",
            "  \"type_vocab_size\": 2,\n",
            "  \"vocab_size\": 512\n",
            "}\n",
            "\n",
            "05/10/2023 13:48:58 - INFO -   Weight doesn't exsits. /content/CLIP4IDC/modules/cross-base/cross_pytorch_model.bin\n",
            "05/10/2023 13:48:58 - INFO -   loading archive file /content/CLIP4IDC/modules/decoder-base\n",
            "05/10/2023 13:48:58 - INFO -   Model config {\n",
            "  \"attention_probs_dropout_prob\": 0.1,\n",
            "  \"hidden_act\": \"gelu\",\n",
            "  \"hidden_dropout_prob\": 0.1,\n",
            "  \"hidden_size\": 512,\n",
            "  \"initializer_range\": 0.02,\n",
            "  \"intermediate_size\": 2048,\n",
            "  \"max_target_embeddings\": 77,\n",
            "  \"num_attention_heads\": 8,\n",
            "  \"num_decoder_layers\": 3,\n",
            "  \"num_hidden_layers\": 12,\n",
            "  \"type_vocab_size\": 2,\n",
            "  \"vocab_size\": 49408\n",
            "}\n",
            "\n",
            "05/10/2023 13:48:58 - INFO -   Weight doesn't exsits. /content/CLIP4IDC/modules/decoder-base/decoder_pytorch_model.bin\n",
            "05/10/2023 13:48:58 - WARNING -   Stage-One:False, Stage-Two:True\n",
            "05/10/2023 13:48:58 - WARNING -   \t embed_dim: 512\n",
            "05/10/2023 13:48:58 - WARNING -   \t image_resolution: 224\n",
            "05/10/2023 13:48:58 - WARNING -   \t vision_layers: 12\n",
            "05/10/2023 13:48:58 - WARNING -   \t vision_width: 768\n",
            "05/10/2023 13:48:58 - WARNING -   \t vision_patch_size: 32\n",
            "05/10/2023 13:48:58 - WARNING -   \t context_length: 77\n",
            "05/10/2023 13:48:58 - WARNING -   \t vocab_size: 49408\n",
            "05/10/2023 13:48:58 - WARNING -   \t transformer_width: 512\n",
            "05/10/2023 13:48:58 - WARNING -   \t transformer_heads: 8\n",
            "05/10/2023 13:48:58 - WARNING -   \t transformer_layers: 12\n",
            "05/10/2023 13:48:58 - WARNING -   \t\t linear_patch: 2d\n",
            "05/10/2023 13:48:58 - WARNING -   \t cut_top_layer: 0\n",
            "05/10/2023 13:49:11 - INFO -   --------------------\n",
            "05/10/2023 13:49:11 - INFO -   Weights from pretrained model not used in CLIP4IDC: \n",
            "   clip.input_resolution\n",
            "   clip.context_length\n",
            "   clip.vocab_size\n",
            "positional_embedding\n",
            "visual.class_embedding\n",
            "visual.positional_embedding\n",
            "visual.conv1.weight\n",
            "visual.ln_pre.weight\n",
            "visual.ln_pre.bias\n",
            "token_embedding.weight\n",
            "For test, sentence number: 62\n",
            "For test, image number: 62\n",
            "Image number: 62\n",
            "Total Paire: 62\n",
            "05/10/2023 13:49:11 - INFO -   ***** Running test *****\n",
            "05/10/2023 13:49:11 - INFO -     Num examples = 62\n",
            "05/10/2023 13:49:11 - INFO -     Batch size = 32\n",
            "05/10/2023 13:49:11 - INFO -     Num steps = 2\n",
            "05/10/2023 13:49:11 - INFO -   ***** Running val *****\n",
            "loading annotations into memory...\n",
            "Done (t=0.51s)\n",
            "creating index...\n",
            "index created!\n",
            "Loading and preparing results...\n",
            "DONE (t=0.03s)\n",
            "creating index...\n",
            "index created!\n",
            "tokenization...\n",
            "PTBTokenizer tokenized 5990 tokens at 32917.01 tokens per second.\n",
            "PTBTokenizer tokenized 1079 tokens at 9506.05 tokens per second.\n",
            "setting up scorers...\n",
            "computing Bleu score...\n",
            "{'testlen': 956, 'reflen': 959, 'guess': [956, 832, 708, 584], 'correct': [578, 280, 118, 51]}\n",
            "ratio: 0.9968717413962493\n",
            "Bleu_1: 0.603\n",
            "Bleu_2: 0.450\n",
            "Bleu_3: 0.323\n",
            "Bleu_4: 0.233\n",
            "computing METEOR score...\n",
            "METEOR: 0.210\n",
            "computing Rouge score...\n",
            "ROUGE_L: 0.570\n",
            "computing CIDEr score...\n",
            "CIDEr: 1.001\n",
            "05/10/2023 13:49:37 - INFO -   >>>  BLEU_1: 0.6027, BLEU_2: 0.4497, BLEU_3: 0.3227, BLEU_4: 0.2325\n",
            "05/10/2023 13:49:37 - INFO -   >>>  METEOR: 0.2098, ROUGE_L: 0.5700, CIDEr: 1.0009\n"
          ]
        }
      ]
    },
    {
      "cell_type": "code",
      "source": [],
      "metadata": {
        "id": "n-4pID5Oh80T"
      },
      "execution_count": null,
      "outputs": []
    }
  ]
}